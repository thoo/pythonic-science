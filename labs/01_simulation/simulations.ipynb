{
 "cells": [
  {
   "cell_type": "markdown",
   "metadata": {},
   "source": [
    "(Note: the goal is to simulate this. Even if you know how to solve this analytically, you should still write a program). "
   ]
  },
  {
   "cell_type": "markdown",
   "metadata": {},
   "source": [
    "## Coins in a row\n",
    "\n",
    "You place 100 coins heads up in a row and number them by position, with the coin all the way on the left No. 1 and the one on the rightmost edge No. 100. Next, for every number N, from 1 to 100, you flip over every coin whose position is a multiple of N. For example, first you’ll flip over all the coins, because every number is a multiple of 1. Then you’ll flip over all the even-numbered coins, because they’re multiples of 2. Then you’ll flip coins No. 3, 6, 9, 12 … And so on.\n",
    "\n",
    "What do the coins look like when you’re done? Specifically, which coins are heads down?\n",
    "\n",
    "Source: [fivethirtyeight](https://fivethirtyeight.com/features/can-you-survive-this-deadly-board-game/)"
   ]
  },
  {
   "cell_type": "code",
   "execution_count": null,
   "metadata": {
    "collapsed": true
   },
   "outputs": [],
   "source": []
  },
  {
   "cell_type": "markdown",
   "metadata": {},
   "source": [
    "You are studying a protein that causes cells to orient themselves perpendicular to a growth substrate.  You can measure the relative orientation of cells to within $5 ^{\\circ}$. You make 10 measurements of a wildtype protein and 10 with a mutant.  You make the following observations.  \n",
    "\n",
    "Assuming that the measurement error is normally distributed, can you expect the mean???"
   ]
  },
  {
   "cell_type": "code",
   "execution_count": null,
   "metadata": {
    "collapsed": true
   },
   "outputs": [],
   "source": []
  },
  {
   "cell_type": "markdown",
   "metadata": {
    "collapsed": true
   },
   "source": [
    "You are doing a classic blue/white lacZ mutant screen, where bacterial mutants of interest have blue colonies rather than white colonies.  You screen a library containing 10,000 mutants.  You expect that 1/1,000 mutants will be blue.  Assuming no bias in the library, how many colonies do you need to look at to have a < 2% chance of missing a mutant? You can report at a factor of ten.  "
   ]
  },
  {
   "cell_type": "code",
   "execution_count": null,
   "metadata": {
    "collapsed": true
   },
   "outputs": [],
   "source": []
  },
  {
   "cell_type": "markdown",
   "metadata": {
    "collapsed": true
   },
   "source": [
    "You do a `bind-n-seq` experiment in which you take a pool of 100 DNA sequences with an even frequency of 1% each.  You then throw a DNA binding protein into the mix which binds to 1/2 of the sequences with high affinity, but does not bind to the other sequences at all (so the pool is now 2% A, 0% B).  Unfortunately, you can only do the binding reaction at small volumes, so you end up with only 20 DNA sequences of each type. \n",
    "\n",
    "1. \n",
    "\n"
   ]
  },
  {
   "cell_type": "code",
   "execution_count": null,
   "metadata": {
    "collapsed": false
   },
   "outputs": [],
   "source": [
    "import numpy as np \n",
    "dna_frequencies = np.random.binomial(20,0.1,20)"
   ]
  },
  {
   "cell_type": "code",
   "execution_count": null,
   "metadata": {
    "collapsed": false
   },
   "outputs": [],
   "source": [
    "dna_frequencies\n"
   ]
  },
  {
   "cell_type": "code",
   "execution_count": null,
   "metadata": {
    "collapsed": false
   },
   "outputs": [],
   "source": []
  },
  {
   "cell_type": "code",
   "execution_count": null,
   "metadata": {
    "collapsed": true
   },
   "outputs": [],
   "source": []
  },
  {
   "cell_type": "code",
   "execution_count": null,
   "metadata": {
    "collapsed": false,
    "scrolled": true
   },
   "outputs": [],
   "source": [
    "import random\n",
    "import numpy as np\n",
    "\n",
    "%matplotlib inline\n",
    "from matplotlib import pyplot as plt\n",
    "\n",
    "def sample_it(N,lib_size=10000,mut_freq=0.001):\n",
    "\n",
    "    max_value = int(round(mut_freq*lib_size,0))\n",
    "    \n",
    "    out = np.zeros(max_value,dtype=int)\n",
    "    for i in range(N):\n",
    "        s = int(round(random.random()*lib_size,0))\n",
    "        if s < max_value:\n",
    "            out[s] += 1\n",
    "        \n",
    "    num_missing = np.sum(out == 0)\n",
    "    \n",
    "    return num_missing\n",
    "\n",
    "\n",
    "\n",
    "out = []\n",
    "for i in range(1000):\n",
    "    print(i)\n",
    "    for j in range(6):\n",
    "    \n",
    "        y = sample_it(10**j)\n",
    "        if y == 0:\n",
    "            out.append(10**j)\n",
    "            break\n",
    "\n",
    "    \n"
   ]
  },
  {
   "cell_type": "code",
   "execution_count": null,
   "metadata": {
    "collapsed": false
   },
   "outputs": [],
   "source": [
    "plt.hist(out)"
   ]
  },
  {
   "cell_type": "code",
   "execution_count": null,
   "metadata": {
    "collapsed": false
   },
   "outputs": [],
   "source": [
    "1-984/1000."
   ]
  },
  {
   "cell_type": "code",
   "execution_count": null,
   "metadata": {
    "collapsed": true
   },
   "outputs": [],
   "source": []
  }
 ],
 "metadata": {
  "kernelspec": {
   "display_name": "Python 3",
   "language": "python",
   "name": "python3"
  },
  "language_info": {
   "codemirror_mode": {
    "name": "ipython",
    "version": 3
   },
   "file_extension": ".py",
   "mimetype": "text/x-python",
   "name": "python",
   "nbconvert_exporter": "python",
   "pygments_lexer": "ipython3",
   "version": "3.5.2"
  }
 },
 "nbformat": 4,
 "nbformat_minor": 1
}
