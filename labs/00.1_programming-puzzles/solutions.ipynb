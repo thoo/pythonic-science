{
 "cells": [
  {
   "cell_type": "code",
   "execution_count": 5,
   "metadata": {
    "collapsed": false,
    "scrolled": false
   },
   "outputs": [
    {
     "name": "stderr",
     "output_type": "stream",
     "text": [
      "/usr/local/lib/python3.5/dist-packages/ipykernel/__main__.py:74: FutureWarning: comparison to `None` will result in an elementwise object comparison in the future.\n"
     ]
    },
    {
     "name": "stdout",
     "output_type": "stream",
     "text": [
      "0.012411 (2, 3, 4, 5, 7, 9, 11, 15, 19, 25)\n",
      "0.007162 (2, 2, 3, 4, 6, 8, 11, 15, 21, 28)\n",
      "0.006031 (2, 3, 4, 5, 6, 8, 11, 15, 20, 26)\n",
      "0.005267 (3, 4, 5, 6, 7, 9, 11, 14, 18, 23)\n",
      "0.005069 (3, 3, 4, 5, 7, 9, 11, 15, 19, 24)\n",
      "0.004094 (1, 2, 3, 4, 5, 8, 11, 15, 21, 30)\n",
      "0.00358 (2, 3, 3, 5, 6, 8, 11, 15, 20, 27)\n",
      "0.003239 (2, 2, 3, 4, 6, 8, 11, 15, 20, 29)\n",
      "0.00275 (3, 4, 5, 6, 8, 9, 12, 14, 17, 22)\n",
      "0.002595 (2, 3, 4, 5, 6, 9, 11, 15, 20, 25)\n",
      "0.002569 (4, 5, 6, 7, 8, 10, 11, 14, 16, 19)\n",
      "0.002388 (1, 2, 3, 4, 5, 7, 11, 15, 22, 30)\n",
      "0.002292 (1, 2, 3, 4, 6, 8, 11, 15, 21, 29)\n",
      "0.002205 (1, 1, 2, 3, 4, 6, 10, 15, 23, 35)\n",
      "0.001828 (1, 2, 2, 3, 5, 7, 10, 15, 22, 33)\n",
      "0.001821 (4, 4, 5, 6, 8, 9, 12, 14, 17, 21)\n",
      "0.001524 (3, 3, 4, 6, 7, 9, 11, 15, 18, 24)\n",
      "0.001485 (1, 1, 2, 3, 4, 7, 10, 15, 23, 34)\n",
      "0.001256 (1, 1, 2, 3, 5, 7, 10, 15, 22, 34)\n",
      "0.001249 (1, 1, 1, 2, 4, 6, 9, 15, 24, 37)\n",
      "0.001233 (5, 6, 7, 8, 9, 10, 11, 13, 15, 16)\n",
      "0.001211 (1, 2, 2, 4, 5, 7, 11, 15, 22, 31)\n",
      "0.001157 (11, 5, 1, 0, 2, 7, 13, 18, 21, 22)\n",
      "0.001147 (3, 3, 4, 6, 7, 9, 11, 15, 19, 23)\n",
      "0.000986 (4, 5, 6, 7, 8, 10, 12, 14, 17, 17)\n",
      "0.000978 (3, 4, 4, 6, 7, 9, 11, 14, 18, 24)\n",
      "0.000939 (4, 4, 5, 7, 8, 10, 12, 14, 17, 19)\n",
      "0.000924 (3, 4, 5, 6, 8, 9, 11, 14, 18, 22)\n",
      "0.000905 (2, 2, 3, 5, 6, 8, 11, 15, 20, 28)\n",
      "0.000901 (3, 4, 5, 6, 8, 9, 11, 14, 17, 23)\n",
      "0.000877 (4, 5, 5, 7, 8, 10, 12, 14, 17, 18)\n",
      "0.000808 (4, 5, 6, 7, 8, 10, 11, 13, 16, 20)\n",
      "0.000668 (6, 6, 7, 8, 9, 10, 11, 13, 14, 16)\n",
      "0.000633 (0, 1, 1, 2, 3, 5, 9, 15, 24, 40)\n",
      "0.000629 (1, 1, 2, 2, 4, 6, 9, 15, 23, 37)\n",
      "0.00062 (0, 1, 1, 2, 3, 5, 8, 14, 24, 42)\n",
      "0.000605 (12, 6, 2, 0, 1, 5, 11, 17, 22, 24)\n",
      "0.000594 (9, 11, 6, 14, 3, 17, 1, 18, 0, 21)\n",
      "0.000594 (0, 0, 1, 1, 2, 4, 7, 13, 25, 47)\n",
      "0.000581 (8, 8, 9, 9, 10, 10, 11, 11, 12, 12)\n",
      "0.00056 (7, 7, 8, 9, 9, 10, 11, 12, 13, 14)\n",
      "0.000505 (10, 4, 0, 1, 6, 13, 18, 20, 17, 11)\n",
      "0.000491 (9, 11, 6, 15, 3, 17, 1, 19, 0, 19)\n",
      "0.000484 (5, 6, 6, 7, 9, 10, 11, 13, 15, 18)\n",
      "0.000484 (0, 0, 1, 1, 2, 4, 8, 14, 25, 45)\n",
      "0.00047 (6, 7, 7, 8, 9, 10, 11, 12, 14, 16)\n",
      "0.000464 (0, 0, 0, 1, 1, 3, 6, 12, 25, 52)\n",
      "0.000442 (6, 7, 8, 8, 9, 10, 11, 12, 13, 16)\n",
      "0.000441 (10, 5, 1, 0, 3, 8, 14, 19, 21, 19)\n",
      "0.00043 (11, 6, 1, 0, 2, 6, 12, 18, 22, 22)\n"
     ]
    }
   ],
   "source": [
    "import numpy as np\n",
    "\n",
    "def head_to_head(a_soldiers,b_soldiers):\n",
    "    \"\"\"\n",
    "    Calculate the score for a battle between the a and b soldier\n",
    "    arrangements. \n",
    "    \"\"\"\n",
    "    \n",
    "    points = np.arange(1,11)\n",
    "    \n",
    "    a = np.array(a_soldiers)\n",
    "    b = np.array(b_soldiers)\n",
    "    \n",
    "    a_points = np.sum(points[np.array(a > b)])\n",
    "    b_points = np.sum(points[np.array(a < b)])\n",
    "    \n",
    "    if a_points > b_points:\n",
    "        return a_soldiers\n",
    "    elif a_points < b_points:\n",
    "        return b_soldiers\n",
    "    else:\n",
    "        return None\n",
    "\n",
    "    \n",
    "def gen_armies(army_type=None):\n",
    "    \"\"\"\n",
    "    Randomly generate armies by a variety of strategies.  \n",
    "    \"\"\"\n",
    "    \n",
    "    # Generate initial weights\n",
    "    if army_type == \"exp\":\n",
    "        armies = np.exp(np.random.random()*np.arange(10))\n",
    "    elif army_type == \"flat\":\n",
    "        armies = np.random.rand(10)\n",
    "    elif army_type == \"flat_sorted\":\n",
    "        armies = np.random.rand(10)\n",
    "        armies.sort()\n",
    "    elif army_type == \"comb\":\n",
    "        armies = np.sin(np.arange(10)/np.random.random()) + 1        \n",
    "    else:\n",
    "        armies = np.ones(10)\n",
    "    \n",
    "    # round off so armies now have 100 soldiers, distributed \n",
    "    # according to weights above\n",
    "    armies = armies/np.sum(armies)        \n",
    "    armies = np.round(armies*100,0)\n",
    "    \n",
    "    # Trim to deal with numerical errors in round call above\n",
    "    if np.sum(armies) > 100:\n",
    "        armies[9] = armies[9] - (np.sum(armies) - 100)\n",
    "    if np.sum(armies) < 100:\n",
    "        armies[9] = armies[9] + (100 - np.sum(armies))\n",
    "        \n",
    "    return np.array(armies,dtype=np.int)\n",
    "\n",
    "strategies = [\"exp\",\"flat\",\"flat_sorted\",\"comb\"]\n",
    "\n",
    "# Create initial winner\n",
    "winner_strategy = np.random.choice(strategies)\n",
    "winner = gen_armies(winner_strategy)\n",
    "\n",
    "# Run 1,000,000 times \n",
    "out = {}\n",
    "for i in range(1000000):\n",
    "    \n",
    "    # Create a challenger\n",
    "    challenger_strategy = np.random.choice(strategies)\n",
    "    challenger = gen_armies(challenger_strategy)\n",
    "\n",
    "    # Do battle\n",
    "    result = head_to_head(winner,challenger)\n",
    "    \n",
    "    # Replace winner if there is a new winner\n",
    "    if result != None:\n",
    "        if not np.array_equal(winner,result):\n",
    "            winner = np.copy(result)\n",
    "            winner_strategy = challenger_strategy\n",
    "    \n",
    "    # Count the winners\n",
    "    try:\n",
    "        out[tuple(winner)] += 1\n",
    "    except KeyError:\n",
    "        out[tuple(winner)] = 1\n",
    "\n",
    "\n",
    "# Sort output and print out top 50 most common solutions\n",
    "sorted_out = [(out[k],k) for k in out.keys()]\n",
    "sorted_out.sort(reverse=True)\n",
    "for i in range(50):\n",
    "    print(sorted_out[i][0]/1000000,sorted_out[i][1])"
   ]
  },
  {
   "cell_type": "code",
   "execution_count": null,
   "metadata": {
    "collapsed": true
   },
   "outputs": [],
   "source": [
    "battle_plan = [2, 3, 4, 5, 7, 9, 11, 15, 19, 25]"
   ]
  },
  {
   "cell_type": "code",
   "execution_count": 4,
   "metadata": {
    "collapsed": false
   },
   "outputs": [
    {
     "name": "stdout",
     "output_type": "stream",
     "text": [
      "[(79321, (4, 5, 6)), (75883, (5, 6, 7)), (75505, (3, 5, 6)), (72296, (2, 5, 6)), (71727, (3, 4, 6)), (71555, (4, 6, 7)), (69449, (1, 5, 6)), (68340, (2, 4, 6)), (68075, (3, 4, 5)), (67653, (3, 6, 7))]\n"
     ]
    }
   ],
   "source": [
    "import random\n",
    "import itertools\n",
    "\n",
    "def simulate(coin_positions):\n",
    "    \"\"\"\n",
    "    Simulate playing the game.  Roll a fair dice until you either\n",
    "    land on a coin in coin_positions (alive, return 1) or pass \n",
    "    all of the coins (dead, return 0).\n",
    "    \"\"\"\n",
    "    \n",
    "    # current position\n",
    "    current = 0\n",
    "    \n",
    "    # Roll until you pass the last coin\n",
    "    while current < coin_positions[-1]:\n",
    "        current = current + random.choice([1,2,3,4,5,6])\n",
    "        \n",
    "        # If you've landed on a coin, you win -- return 1\n",
    "        if current in coin_positions:\n",
    "            return 1\n",
    "        \n",
    "    return 0\n",
    "            \n",
    "# Iterate over all possible 3-coin placements\n",
    "possibilities = []\n",
    "for c in itertools.combinations(list(range(1,10)),3):\n",
    "    \n",
    "    # Simulate rolling the dice 100,000 times for that placement,\n",
    "    # recording the number of times you did not die as \"score\"\n",
    "    score = 0\n",
    "    for i in range(100000):\n",
    "        score = score + simulate(c)\n",
    "        \n",
    "    # Record the result as a tuple (score,coin_arrangement)\n",
    "    possibilities.append((score,c))\n",
    "\n",
    "# Sort the results with the highest score first\n",
    "possibilities.sort(reverse=True)\n",
    "\n",
    "# Print the top 10\n",
    "print(possibilities[:10])"
   ]
  },
  {
   "cell_type": "code",
   "execution_count": null,
   "metadata": {
    "collapsed": true
   },
   "outputs": [],
   "source": [
    "coin_placement = [4,5,6]"
   ]
  },
  {
   "cell_type": "code",
   "execution_count": 10,
   "metadata": {
    "collapsed": false
   },
   "outputs": [
    {
     "name": "stdout",
     "output_type": "stream",
     "text": [
      "LANDED: Glad that's over.\n"
     ]
    },
    {
     "data": {
      "image/png": "[encoded data removed]",
      "text/plain": [
       "<matplotlib.figure.Figure at 0x7f4d4d2f9550>"
      ]
     },
     "metadata": {},
     "output_type": "display_data"
    }
   ],
   "source": [
    "import rocket\n",
    "\n",
    "%matplotlib inline\n",
    "from matplotlib import pyplot as plt\n",
    "\n",
    "R = rocket.Rocket()\n",
    "while R.alive and not R.landed:\n",
    "    \n",
    "    # High altitude regime\n",
    "    if R.position[1] > 100:\n",
    "        R.y_thruster = (2-R.velocity[1])\n",
    "    else:\n",
    "        R.y_thruster = (0.5-R.velocity[1])\n",
    "\n",
    "    plt.plot(R.time,R.position[1],'ro')\n",
    "        \n",
    "    R.update()\n",
    "    \n",
    "\n",
    "\n",
    "    "
   ]
  },
  {
   "cell_type": "code",
   "execution_count": 11,
   "metadata": {
    "collapsed": false
   },
   "outputs": [
    {
     "name": "stdout",
     "output_type": "stream",
     "text": [
      "LANDED: Glad that's over.\n"
     ]
    },
    {
     "data": {
      "image/png": "[encoded data removed]",
      "text/plain": [
       "<matplotlib.figure.Figure at 0x7f4d2935bcf8>"
      ]
     },
     "metadata": {},
     "output_type": "display_data"
    }
   ],
   "source": [
    "\n",
    "R = rocket.Rocket()\n",
    "while R.alive and not R.landed:\n",
    "    \n",
    "    R.y_thruster = 100\n",
    "    if R.position[1] < 800:\n",
    "        R.y_thruster = 30\n",
    "\n",
    "    if R.position[1] < 700:\n",
    "        R.y_thruster = 25\n",
    "    \n",
    "    if R.position[1] < 600:\n",
    "        R.y_thruster = 12.\n",
    "    \n",
    "    if R.position[1] < 500:\n",
    "        R.y_thruster = 10.\n",
    "    \n",
    "    if R.position[1] < 400:\n",
    "        R.y_thruster = 6.\n",
    "    \n",
    "    if R.position[1] < 250:\n",
    "        R.y_thruster = 3.\n",
    "    \n",
    "    if R.position[1] < 180:\n",
    "        R.y_thruster = 1.5\n",
    "    \n",
    "    if R.position[1] < 10:\n",
    "        R.y_thruster = .9\n",
    "        \n",
    "    if R.position[1] < 2:\n",
    "        R.y_thruster = 0.6\n",
    "    \n",
    "    plt.plot(R.time,R.position[1],'ro')\n",
    "    \n",
    "    R.update()\n",
    "    \n",
    "    \n",
    "    "
   ]
  },
  {
   "cell_type": "code",
   "execution_count": null,
   "metadata": {
    "collapsed": true
   },
   "outputs": [],
   "source": []
  }
 ],
 "metadata": {
  "kernelspec": {
   "display_name": "Python 3",
   "language": "python",
   "name": "python3"
  },
  "language_info": {
   "codemirror_mode": {
    "name": "ipython",
    "version": 3
   },
   "file_extension": ".py",
   "mimetype": "text/x-python",
   "name": "python",
   "nbconvert_exporter": "python",
   "pygments_lexer": "ipython3",
   "version": "3.5.2"
  }
 },
 "nbformat": 4,
 "nbformat_minor": 1
}
