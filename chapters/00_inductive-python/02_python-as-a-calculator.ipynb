{
 "cells": [
  {
   "cell_type": "markdown",
   "metadata": {
    "deletable": true,
    "editable": true,
    "slideshow": {
     "slide_type": "slide"
    }
   },
   "source": [
    "# python behaves like a calculator"
   ]
  },
  {
   "cell_type": "code",
<<<<<<< HEAD:inductive-python/01_python-as-a-calculator.ipynb
<<<<<<< Updated upstream
   "execution_count": 1,
=======
   "execution_count": 2,
>>>>>>> Stashed changes
=======
   "execution_count": null,
>>>>>>> upstream/master:chapters/00_inductive-python/02_python-as-a-calculator.ipynb
   "metadata": {
    "collapsed": false,
    "deletable": true,
    "editable": true,
    "slideshow": {
     "slide_type": "slide"
    }
   },
<<<<<<< HEAD:inductive-python/01_python-as-a-calculator.ipynb
   "outputs": [
    {
     "data": {
      "text/plain": [
<<<<<<< Updated upstream
       "64"
      ]
     },
     "execution_count": 1,
=======
       "361.0"
      ]
     },
     "execution_count": 2,
>>>>>>> Stashed changes
     "metadata": {},
     "output_type": "execute_result"
    }
   ],
=======
   "outputs": [],
>>>>>>> upstream/master:chapters/00_inductive-python/02_python-as-a-calculator.ipynb
   "source": [
    "(5*5+4/2-8)**2"
   ]
  },
  {
   "cell_type": "markdown",
   "metadata": {
    "deletable": true,
    "editable": true,
    "slideshow": {
     "slide_type": "slide"
    }
   },
   "source": [
    "#### Predict the following output"
   ]
  },
  {
   "cell_type": "code",
   "execution_count": null,
   "metadata": {
    "collapsed": false,
    "deletable": true,
    "editable": true,
    "scrolled": true,
    "slideshow": {
     "slide_type": "-"
    }
   },
   "outputs": [],
   "source": [
    "print((5+5)/25)\n",
    "print(5 + 5/25)"
   ]
  },
  {
   "cell_type": "markdown",
   "metadata": {
    "deletable": true,
    "editable": true,
    "slideshow": {
     "slide_type": "fragment"
    }
   },
   "source": [
    "python does order of operations, etc. just like a calculator"
   ]
  },
  {
   "cell_type": "markdown",
   "metadata": {
    "deletable": true,
    "editable": true,
    "slideshow": {
     "slide_type": "slide"
    }
   },
   "source": [
    "#### Most of the notation is intuitive. \n",
    "\n",
    "Write out the following in a cell.  What value to you get?\n",
    "\n",
    "$$ (5 \\times 5 + \\frac{4}{2} - 8)^{2}$$"
   ]
  },
  {
   "cell_type": "code",
   "execution_count": null,
   "metadata": {
    "collapsed": false,
    "deletable": true,
    "editable": true,
    "slideshow": {
     "slide_type": "fragment"
    }
   },
   "outputs": [],
   "source": [
    "(5*5 + 4/2 - 8)**2"
   ]
  },
  {
   "cell_type": "markdown",
   "metadata": {
    "deletable": true,
    "editable": true,
    "slideshow": {
     "slide_type": "fragment"
    }
   },
   "source": [
    "Most notation is intuitive.  Only weirdo is that \"raise x to the power of y\" is given by `x**y` rather than `x^y`.  "
   ]
  },
  {
   "cell_type": "markdown",
   "metadata": {
    "deletable": true,
    "editable": true,
    "slideshow": {
     "slide_type": "slide"
    }
   },
   "source": [
    "What is the value of $sin(2)$?"
   ]
  },
  {
   "cell_type": "code",
<<<<<<< HEAD:inductive-python/01_python-as-a-calculator.ipynb
<<<<<<< Updated upstream
   "execution_count": 4,
=======
   "execution_count": 5,
>>>>>>> Stashed changes
=======
   "execution_count": null,
>>>>>>> upstream/master:chapters/00_inductive-python/02_python-as-a-calculator.ipynb
   "metadata": {
    "collapsed": false,
    "deletable": true,
    "editable": true,
    "slideshow": {
     "slide_type": "fragment"
    }
   },
<<<<<<< HEAD:inductive-python/01_python-as-a-calculator.ipynb
   "outputs": [
    {
<<<<<<< Updated upstream
     "ename": "NameError",
     "evalue": "name 'sin' is not defined",
     "output_type": "error",
     "traceback": [
      "\u001b[0;31m---------------------------------------------------------------------------\u001b[0m",
      "\u001b[0;31mNameError\u001b[0m                                 Traceback (most recent call last)",
      "\u001b[0;32m<ipython-input-4-6b600ce4a4bb>\u001b[0m in \u001b[0;36m<module>\u001b[0;34m()\u001b[0m\n\u001b[0;32m----> 1\u001b[0;31m \u001b[0msin\u001b[0m\u001b[0;34m(\u001b[0m\u001b[0;36m2\u001b[0m\u001b[0;34m)\u001b[0m\u001b[0;34m\u001b[0m\u001b[0m\n\u001b[0m",
      "\u001b[0;31mNameError\u001b[0m: name 'sin' is not defined"
     ]
=======
     "data": {
      "text/plain": [
       "0.90929742682568171"
      ]
     },
     "execution_count": 5,
     "metadata": {},
     "output_type": "execute_result"
>>>>>>> Stashed changes
    }
   ],
=======
   "outputs": [],
>>>>>>> upstream/master:chapters/00_inductive-python/02_python-as-a-calculator.ipynb
   "source": [
    "import numpy as np\n",
    "np.sin(2)\n",
    "\n"
   ]
  },
  {
   "cell_type": "markdown",
   "metadata": {
    "deletable": true,
    "editable": true,
    "slideshow": {
     "slide_type": "fragment"
    }
   },
   "source": [
    "Python gives very informative errors (if you know how to read them).  What do you think `NameError` means?"
   ]
  },
  {
   "cell_type": "markdown",
   "metadata": {
    "deletable": true,
    "editable": true,
    "slideshow": {
     "slide_type": "fragment"
    }
   },
   "source": [
    "`NameError` means that the current python \"interpreter\" does know what `sin` means"
   ]
  },
  {
   "cell_type": "markdown",
   "metadata": {
    "deletable": true,
    "editable": true,
    "slideshow": {
     "slide_type": "slide"
    }
   },
   "source": [
    "To get access to more math, you need \n",
    "\n",
    "`import math`"
   ]
  },
  {
   "cell_type": "code",
   "execution_count": null,
   "metadata": {
    "collapsed": false,
    "deletable": true,
    "editable": true,
    "slideshow": {
     "slide_type": "fragment"
    }
   },
   "outputs": [],
   "source": [
    "import math\n",
    "\n",
    "math.sin(2)"
   ]
  },
  {
   "cell_type": "markdown",
   "metadata": {
    "deletable": true,
    "editable": true,
    "slideshow": {
     "slide_type": "slide"
    }
   },
   "source": [
    "Once you have math imported, you have access to a whole slew of math functions."
   ]
  },
  {
   "cell_type": "code",
   "execution_count": null,
   "metadata": {
    "collapsed": false,
    "deletable": true,
    "editable": true,
    "scrolled": true,
    "slideshow": {
     "slide_type": "fragment"
    }
   },
   "outputs": [],
   "source": [
    "print(math.factorial(10))\n",
    "print(math.sqrt(10))\n",
    "print(math.sin(math.pi))\n",
    "print(math.cos(10))\n",
    "print(math.exp(10))\n",
    "print(math.log(10))\n",
    "print(math.log10(10))\n"
   ]
  },
  {
   "cell_type": "markdown",
   "metadata": {
    "deletable": true,
    "editable": true,
    "slideshow": {
     "slide_type": "slide"
    }
   },
   "source": [
    "If you want to see what the `math` module has to offer, type `math.` and then hit `TAB`.  \n",
    "\n",
    "<img src=\"python-as-a-calculator/math-dropdown.png\" />"
   ]
  },
  {
   "cell_type": "code",
   "execution_count": null,
   "metadata": {
    "collapsed": false,
    "deletable": true,
    "editable": true,
    "slideshow": {
     "slide_type": "fragment"
    }
   },
   "outputs": [],
   "source": [
    "# for example\n",
    "math."
   ]
  },
  {
   "cell_type": "markdown",
   "metadata": {
    "deletable": true,
    "editable": true,
    "slideshow": {
     "slide_type": "slide"
    }
   },
   "source": [
    "You can also get information about a function by typing `help(FUNCTION)`.  If you run the next cell, it will give you information about the `math.factorial` function."
   ]
  },
  {
   "cell_type": "code",
<<<<<<< HEAD:inductive-python/01_python-as-a-calculator.ipynb
<<<<<<< Updated upstream
   "execution_count": 8,
=======
   "execution_count": 7,
>>>>>>> Stashed changes
=======
   "execution_count": null,
>>>>>>> upstream/master:chapters/00_inductive-python/02_python-as-a-calculator.ipynb
   "metadata": {
    "collapsed": false,
    "deletable": true,
    "editable": true,
    "slideshow": {
     "slide_type": "fragment"
    }
   },
   "outputs": [],
   "source": [
    "help(math.factorial)"
   ]
  },
  {
   "cell_type": "markdown",
   "metadata": {
    "deletable": true,
    "editable": true,
    "slideshow": {
     "slide_type": "slide"
    }
   },
   "source": [
    "### Variables\n",
    "\n",
    "\n",
    "#### Predict what will happen."
   ]
  },
  {
   "cell_type": "code",
   "execution_count": null,
   "metadata": {
    "collapsed": false,
    "deletable": true,
    "editable": true,
    "slideshow": {
     "slide_type": "-"
    }
   },
   "outputs": [],
   "source": [
    "x = 5\n",
    "print(x)"
   ]
  },
  {
   "cell_type": "code",
   "execution_count": null,
   "metadata": {
    "collapsed": false,
    "deletable": true,
    "editable": true,
    "slideshow": {
     "slide_type": "-"
    }
   },
   "outputs": [],
   "source": [
    "x = 5\n",
    "x = x + 2\n",
    "print(x)"
   ]
  },
  {
   "cell_type": "markdown",
   "metadata": {
    "deletable": true,
    "editable": true,
    "slideshow": {
     "slide_type": "fragment"
    }
   },
   "source": [
    "In python \"`=`\" means \"assign the stuff on the right into the stuff on the left.\""
   ]
  },
  {
   "cell_type": "markdown",
   "metadata": {
    "deletable": true,
    "editable": true,
    "slideshow": {
     "slide_type": "slide"
    }
   },
   "source": [
    "#### Predict what will happen."
   ]
  },
  {
   "cell_type": "code",
   "execution_count": null,
   "metadata": {
    "collapsed": false,
    "deletable": true,
    "editable": true,
    "scrolled": true,
    "slideshow": {
     "slide_type": "-"
    }
   },
   "outputs": [],
   "source": [
    "x = 7 \n",
    "#5*5 = x\n",
    "print(x)\n",
    "%who\n"
   ]
  },
  {
   "cell_type": "markdown",
   "metadata": {
    "deletable": true,
    "editable": true,
    "slideshow": {
     "slide_type": "fragment"
    }
   },
   "source": [
    "What happened?  "
   ]
  },
  {
   "cell_type": "markdown",
   "metadata": {
    "deletable": true,
    "editable": true,
    "slideshow": {
     "slide_type": "fragment"
    }
   },
   "source": [
    "`SyntaxError` is something python can't interpret.\n",
    "\n",
    "In python, `=` means store the output of the stuff on the **right** in the variable on the **left**.  It's nonsensical to try to store anything in `5*5`, so the command fails."
   ]
  },
  {
   "cell_type": "markdown",
   "metadata": {
    "deletable": true,
    "editable": true,
    "slideshow": {
     "slide_type": "slide"
    }
   },
   "source": [
    "#### Predict what will happen. "
   ]
  },
  {
   "cell_type": "code",
   "execution_count": null,
   "metadata": {
    "collapsed": false,
    "deletable": true,
    "editable": true,
    "slideshow": {
     "slide_type": "-"
    }
   },
   "outputs": [],
   "source": [
    "this_is_a_variable = 5\n",
    "another_variable = 2\n",
    "print(this_is_a_variable*another_variable)"
   ]
  },
  {
   "cell_type": "markdown",
   "metadata": {
    "deletable": true,
    "editable": true,
    "slideshow": {
     "slide_type": "fragment"
    }
   },
   "source": [
    "Variables can (and **should**) have descriptive names.  "
   ]
  },
  {
   "cell_type": "markdown",
   "metadata": {
    "deletable": true,
    "editable": true,
    "slideshow": {
     "slide_type": "slide"
    }
   },
   "source": [
    "#### Implement\n",
    "\n",
    "Stirling's approximation says that you can approximate $n!$ using some nifty log tricks.  \n",
    "\n",
    "$$ ln(n!) \\approx nln(n) - n + 1 $$\n",
    "\n",
    "Write code  to check this approximation for **any** value of $n$."
   ]
  },
  {
   "cell_type": "code",
<<<<<<< HEAD:inductive-python/01_python-as-a-calculator.ipynb
<<<<<<< Updated upstream
   "execution_count": 17,
=======
   "execution_count": 8,
>>>>>>> Stashed changes
=======
   "execution_count": null,
>>>>>>> upstream/master:chapters/00_inductive-python/02_python-as-a-calculator.ipynb
   "metadata": {
    "collapsed": false,
    "deletable": true,
    "editable": true,
    "slideshow": {
     "slide_type": "fragment"
    }
   },
   "outputs": [],
   "source": [
    "n = 2000\n",
    "real = math.log(math.factorial(n))\n",
    "approx = n*math.log(n) - n + 1\n",
    "\n",
    "print(real,approx)\n"
   ]
  },
  {
   "cell_type": "code",
   "execution_count": 12,
   "metadata": {
    "collapsed": true
   },
   "outputs": [],
   "source": [
    "def fun(n):\n",
    "    real = math.log(math.factorial(n))\n",
    "    approx = n*math.log(n) - n + 1\n",
    "    #print('real',real)\n",
    "    #print('approx',approx)\n",
    "    return real,approx\n",
    "    "
   ]
  },
  {
   "cell_type": "code",
   "execution_count": 13,
   "metadata": {
    "collapsed": false
   },
   "outputs": [
    {
     "name": "stdout",
     "output_type": "stream",
     "text": [
      "10000 loops, best of 3: 172 µs per loop\n"
     ]
    }
   ],
   "source": [
    "%%timeit \n",
    "fun(2000)"
   ]
  },
  {
   "cell_type": "code",
   "execution_count": 18,
   "metadata": {
    "collapsed": true
   },
   "outputs": [],
   "source": [
    "def fun(n):\n",
    "    real = np.math.log(np.math.factorial(n))\n",
    "    approx = n*np.log(n) - n + 1\n",
    "    #print('real',real)\n",
    "    #print('approx',approx)\n",
    "    return real,approx"
   ]
  },
  {
   "cell_type": "code",
   "execution_count": 22,
   "metadata": {
    "collapsed": false
   },
   "outputs": [
    {
     "data": {
      "text/plain": [
       "(178075.62173719867, 178070.75105072255)"
      ]
     },
     "execution_count": 22,
     "metadata": {},
     "output_type": "execute_result"
    }
   ],
   "source": [
    "\n",
    "fun(2E4)"
   ]
  },
  {
   "cell_type": "markdown",
   "metadata": {
    "deletable": true,
    "editable": true,
    "slideshow": {
     "slide_type": "slide"
    }
   },
   "source": [
    "## Summary\n",
    "\n",
    "+ Python behaves like a calculator (order of operations, etc.). \n",
    "+ You can assign the results of calculations to variables using \"`=`\"\n",
    "+ Python does the stuff on the right first, then assigns it to the name on the left.\n",
    "+ You can access more math by `import math`"
   ]
<<<<<<< HEAD:inductive-python/01_python-as-a-calculator.ipynb
  },
  {
   "cell_type": "markdown",
   "metadata": {
    "deletable": true,
    "editable": true,
    "slideshow": {
     "slide_type": "slide"
    }
   },
   "source": [
    "### Extra Excercises\n",
    "+ Calculate the arc tangent of 5\n",
    "+ Figure out what the math.ceil and math.floor functions do\n",
    "+ For any $x$, write a math call that will give $5x^{4} - 3x^{2} + 0.5x - 20$\n"
   ]
=======
>>>>>>> upstream/master:chapters/00_inductive-python/02_python-as-a-calculator.ipynb
  }
 ],
 "metadata": {
  "celltoolbar": "Slideshow",
  "kernelspec": {
   "display_name": "Python 3",
   "language": "python",
   "name": "python3"
  },
  "language_info": {
   "codemirror_mode": {
    "name": "ipython",
    "version": 3
   },
   "file_extension": ".py",
   "mimetype": "text/x-python",
   "name": "python",
   "nbconvert_exporter": "python",
   "pygments_lexer": "ipython3",
   "version": "3.6.0"
  }
 },
 "nbformat": 4,
 "nbformat_minor": 1
}
